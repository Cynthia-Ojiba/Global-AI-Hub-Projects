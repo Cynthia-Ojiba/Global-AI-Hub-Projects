{
 "cells": [
  {
   "cell_type": "markdown",
   "id": "8b34b9ff",
   "metadata": {},
   "source": [
    "This is a program for a rock paper scissors game for the user to play against the computer.\n",
    "I will be following a series of steps and using the random  module."
   ]
  },
  {
   "cell_type": "code",
   "execution_count": 4,
   "id": "c6ad4006",
   "metadata": {},
   "outputs": [
    {
     "name": "stdout",
     "output_type": "stream",
     "text": [
      "please input the number of rounds you want to play for: 3\n",
      "round number:  1\n",
      "Please pick an action: paper\n",
      "computer:  paper\n",
      "player:  paper\n",
      "Tie! Both players played the same action\n",
      "round number:  2\n",
      "Please pick an action: scissors\n",
      "computer:  paper\n",
      "player:  scissors\n",
      "Winner is player\n",
      "round number:  3\n",
      "Please pick an action: rock\n",
      "computer:  rock\n",
      "player:  rock\n",
      "Tie! Both players played the same action\n",
      "Player wins! Player score 1  :  Computer score 0\n"
     ]
    }
   ],
   "source": [
    "import random \n",
    "action_list = ['rock', 'paper', 'scissors']\n",
    "#set the initial scores of the computer and the player\n",
    "computer_score= 0\n",
    "player_score= 0\n",
    "\n",
    "total_rounds= input('please input the number of rounds you want to play for: ')\n",
    "#initialize round counter to keep track of the number of rounds that the player has played\n",
    "round_counter= 0\n",
    "\n",
    "\n",
    "while True:\n",
    "    round_counter += 1\n",
    "    print('round number: ', round_counter)\n",
    "    computer_choice= random.choice(action_list)\n",
    "    player_choice= input('Please pick an action: ')\n",
    "    print('computer: ', computer_choice)\n",
    "    print('player: ', player_choice)\n",
    "\n",
    "    if computer_choice== player_choice:\n",
    "        print('Tie! Both players played the same action')\n",
    "    #Go ahead and write the elif statements for the other outcomes, you need a nested if statement in the elif blocks.\n",
    "    elif computer_choice== 'rock':\n",
    "        if player_choice == 'scissors':\n",
    "            print ('Winner is Computer')\n",
    "            computer_score += 1\n",
    "        else:\n",
    "            print('Winner is player')\n",
    "            player_score +=1\n",
    "\n",
    "    elif computer_choice== 'paper':\n",
    "        if player_choice == 'scissors':\n",
    "            print('Winner is player')\n",
    "            player_score += 1\n",
    "        else:\n",
    "            print('Winner is computer')\n",
    "            computer_score += 1\n",
    "\n",
    "    elif computer_choice == 'scissors':\n",
    "        if player_choice == 'paper':\n",
    "            print('Winner is computer')\n",
    "            computer_score += 1\n",
    "        else:\n",
    "            print('Winner is player')\n",
    "            player_score += 1\n",
    "        #break the loop when the total number of rounds has been reached\n",
    "    if round_counter == int(total_rounds):\n",
    "        break\n",
    "        \n",
    "#print the outcome of the game by using conditional statements\n",
    "if computer_score == player_score:\n",
    "    print('Tie! Computer score' , computer_score, ' : Player score ', player_score)\n",
    "elif computer_score > player_score:\n",
    "    print('Computer wins! Computer score', computer_score, ' : ', 'Player score ', player_score)\n",
    "\n",
    "elif computer_score < player_score:\n",
    "    print ('Player wins! Player score', player_score, ' : ', 'Computer score', computer_score)\n",
    "       \n",
    "\n",
    "        \n"
   ]
  },
  {
   "cell_type": "code",
   "execution_count": null,
   "id": "43005010",
   "metadata": {},
   "outputs": [],
   "source": []
  },
  {
   "cell_type": "code",
   "execution_count": null,
   "id": "2d37c74a",
   "metadata": {},
   "outputs": [],
   "source": []
  },
  {
   "cell_type": "code",
   "execution_count": null,
   "id": "dadf233b",
   "metadata": {},
   "outputs": [],
   "source": []
  },
  {
   "cell_type": "code",
   "execution_count": null,
   "id": "98a22083",
   "metadata": {},
   "outputs": [],
   "source": []
  },
  {
   "cell_type": "code",
   "execution_count": null,
   "id": "e746e8bb",
   "metadata": {},
   "outputs": [],
   "source": []
  }
 ],
 "metadata": {
  "kernelspec": {
   "display_name": "Python 3 (ipykernel)",
   "language": "python",
   "name": "python3"
  },
  "language_info": {
   "codemirror_mode": {
    "name": "ipython",
    "version": 3
   },
   "file_extension": ".py",
   "mimetype": "text/x-python",
   "name": "python",
   "nbconvert_exporter": "python",
   "pygments_lexer": "ipython3",
   "version": "3.9.12"
  }
 },
 "nbformat": 4,
 "nbformat_minor": 5
}
